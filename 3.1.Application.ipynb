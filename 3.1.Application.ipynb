{
 "cells": [
  {
   "attachments": {},
   "cell_type": "markdown",
   "id": "1834c01c-a4e3-4064-9d85-dd51ca17cd3f",
   "metadata": {},
   "source": [
    "---\n",
    "### Challenge: Backtest on Other Datasets\n",
    "---\n",
    "\n",
    "#### I. Download data from `yfinance`"
   ]
  },
  {
   "cell_type": "code",
   "execution_count": 1,
   "id": "6413f2e3-656e-4847-be24-fc179bec23ac",
   "metadata": {},
   "outputs": [],
   "source": [
    "import yfinance as yf"
   ]
  },
  {
   "cell_type": "code",
   "execution_count": 3,
   "id": "39ef43d8",
   "metadata": {},
   "outputs": [
    {
     "name": "stderr",
     "output_type": "stream",
     "text": [
      "[*********************100%***********************]  1 of 1 completed\n"
     ]
    }
   ],
   "source": [
    "ticker = 'AAPL'\n",
    "df = yf.download(ticker)"
   ]
  },
  {
   "cell_type": "code",
   "execution_count": 4,
   "id": "3026c325",
   "metadata": {},
   "outputs": [
    {
     "data": {
      "text/html": [
       "<div>\n",
       "<style scoped>\n",
       "    .dataframe tbody tr th:only-of-type {\n",
       "        vertical-align: middle;\n",
       "    }\n",
       "\n",
       "    .dataframe tbody tr th {\n",
       "        vertical-align: top;\n",
       "    }\n",
       "\n",
       "    .dataframe thead th {\n",
       "        text-align: right;\n",
       "    }\n",
       "</style>\n",
       "<table border=\"1\" class=\"dataframe\">\n",
       "  <thead>\n",
       "    <tr style=\"text-align: right;\">\n",
       "      <th>Price</th>\n",
       "      <th>Close</th>\n",
       "      <th>High</th>\n",
       "      <th>Low</th>\n",
       "      <th>Open</th>\n",
       "      <th>Volume</th>\n",
       "    </tr>\n",
       "    <tr>\n",
       "      <th>Date</th>\n",
       "      <th></th>\n",
       "      <th></th>\n",
       "      <th></th>\n",
       "      <th></th>\n",
       "      <th></th>\n",
       "    </tr>\n",
       "  </thead>\n",
       "  <tbody>\n",
       "    <tr>\n",
       "      <th>1980-12-12</th>\n",
       "      <td>0.098726</td>\n",
       "      <td>0.099155</td>\n",
       "      <td>0.098726</td>\n",
       "      <td>0.098726</td>\n",
       "      <td>469033600</td>\n",
       "    </tr>\n",
       "    <tr>\n",
       "      <th>1980-12-15</th>\n",
       "      <td>0.093575</td>\n",
       "      <td>0.094005</td>\n",
       "      <td>0.093575</td>\n",
       "      <td>0.094005</td>\n",
       "      <td>175884800</td>\n",
       "    </tr>\n",
       "    <tr>\n",
       "      <th>1980-12-16</th>\n",
       "      <td>0.086707</td>\n",
       "      <td>0.087136</td>\n",
       "      <td>0.086707</td>\n",
       "      <td>0.087136</td>\n",
       "      <td>105728000</td>\n",
       "    </tr>\n",
       "    <tr>\n",
       "      <th>1980-12-17</th>\n",
       "      <td>0.088853</td>\n",
       "      <td>0.089282</td>\n",
       "      <td>0.088853</td>\n",
       "      <td>0.088853</td>\n",
       "      <td>86441600</td>\n",
       "    </tr>\n",
       "    <tr>\n",
       "      <th>1980-12-18</th>\n",
       "      <td>0.091429</td>\n",
       "      <td>0.091858</td>\n",
       "      <td>0.091429</td>\n",
       "      <td>0.091429</td>\n",
       "      <td>73449600</td>\n",
       "    </tr>\n",
       "  </tbody>\n",
       "</table>\n",
       "</div>"
      ],
      "text/plain": [
       "Price          Close      High       Low      Open     Volume\n",
       "Date                                                         \n",
       "1980-12-12  0.098726  0.099155  0.098726  0.098726  469033600\n",
       "1980-12-15  0.093575  0.094005  0.093575  0.094005  175884800\n",
       "1980-12-16  0.086707  0.087136  0.086707  0.087136  105728000\n",
       "1980-12-17  0.088853  0.089282  0.088853  0.088853   86441600\n",
       "1980-12-18  0.091429  0.091858  0.091429  0.091429   73449600"
      ]
     },
     "execution_count": 4,
     "metadata": {},
     "output_type": "execute_result"
    }
   ],
   "source": [
    "df.columns = df.columns.droplevel('Ticker')  # Flatten the columns\n",
    "df.head(n=5)"
   ]
  },
  {
   "attachments": {},
   "cell_type": "markdown",
   "id": "89c73f63-3a7b-4d80-9b1a-e81c905cc10c",
   "metadata": {},
   "source": [
    "---\n",
    "#### II. Preprocess the data"
   ]
  },
  {
   "attachments": {},
   "cell_type": "markdown",
   "id": "320cc06b-feda-4c12-a203-f4b16ff980d3",
   "metadata": {},
   "source": [
    "Filter the date range. We take the data from the 01/01/2023."
   ]
  },
  {
   "cell_type": "code",
   "execution_count": 5,
   "id": "e8e273bd-194b-4d14-899d-26bb852d6f16",
   "metadata": {},
   "outputs": [
    {
     "data": {
      "text/html": [
       "<div>\n",
       "<style scoped>\n",
       "    .dataframe tbody tr th:only-of-type {\n",
       "        vertical-align: middle;\n",
       "    }\n",
       "\n",
       "    .dataframe tbody tr th {\n",
       "        vertical-align: top;\n",
       "    }\n",
       "\n",
       "    .dataframe thead th {\n",
       "        text-align: right;\n",
       "    }\n",
       "</style>\n",
       "<table border=\"1\" class=\"dataframe\">\n",
       "  <thead>\n",
       "    <tr style=\"text-align: right;\">\n",
       "      <th>Price</th>\n",
       "      <th>Close</th>\n",
       "      <th>High</th>\n",
       "      <th>Low</th>\n",
       "      <th>Open</th>\n",
       "      <th>Volume</th>\n",
       "    </tr>\n",
       "    <tr>\n",
       "      <th>Date</th>\n",
       "      <th></th>\n",
       "      <th></th>\n",
       "      <th></th>\n",
       "      <th></th>\n",
       "      <th></th>\n",
       "    </tr>\n",
       "  </thead>\n",
       "  <tbody>\n",
       "    <tr>\n",
       "      <th>2023-01-03</th>\n",
       "      <td>123.632523</td>\n",
       "      <td>129.395510</td>\n",
       "      <td>122.742865</td>\n",
       "      <td>128.782641</td>\n",
       "      <td>112117500</td>\n",
       "    </tr>\n",
       "    <tr>\n",
       "      <th>2023-01-04</th>\n",
       "      <td>124.907707</td>\n",
       "      <td>127.181276</td>\n",
       "      <td>123.642420</td>\n",
       "      <td>125.431615</td>\n",
       "      <td>89113600</td>\n",
       "    </tr>\n",
       "    <tr>\n",
       "      <th>2023-01-05</th>\n",
       "      <td>123.583099</td>\n",
       "      <td>126.301493</td>\n",
       "      <td>123.326093</td>\n",
       "      <td>125.668849</td>\n",
       "      <td>80962700</td>\n",
       "    </tr>\n",
       "    <tr>\n",
       "      <th>2023-01-06</th>\n",
       "      <td>128.130234</td>\n",
       "      <td>128.792531</td>\n",
       "      <td>123.454601</td>\n",
       "      <td>124.561732</td>\n",
       "      <td>87754700</td>\n",
       "    </tr>\n",
       "    <tr>\n",
       "      <th>2023-01-09</th>\n",
       "      <td>128.654129</td>\n",
       "      <td>131.876670</td>\n",
       "      <td>128.397123</td>\n",
       "      <td>128.970458</td>\n",
       "      <td>70790800</td>\n",
       "    </tr>\n",
       "  </tbody>\n",
       "</table>\n",
       "</div>"
      ],
      "text/plain": [
       "Price            Close        High         Low        Open     Volume\n",
       "Date                                                                 \n",
       "2023-01-03  123.632523  129.395510  122.742865  128.782641  112117500\n",
       "2023-01-04  124.907707  127.181276  123.642420  125.431615   89113600\n",
       "2023-01-05  123.583099  126.301493  123.326093  125.668849   80962700\n",
       "2023-01-06  128.130234  128.792531  123.454601  124.561732   87754700\n",
       "2023-01-09  128.654129  131.876670  128.397123  128.970458   70790800"
      ]
     },
     "execution_count": 5,
     "metadata": {},
     "output_type": "execute_result"
    }
   ],
   "source": [
    "df = df.loc['2023-01-01':].copy()\n",
    "df.head(n=5)"
   ]
  },
  {
   "attachments": {},
   "cell_type": "markdown",
   "id": "c33425fb-4c7b-4e22-8db9-6203c789ec44",
   "metadata": {},
   "source": [
    "---\n",
    "#### III.1. Create the target variable: `change_tomorrow`."
   ]
  },
  {
   "cell_type": "code",
   "execution_count": 6,
   "id": "4bbcb75e-5cfe-4f26-a3e1-fee6055e750b",
   "metadata": {},
   "outputs": [
    {
     "data": {
      "text/html": [
       "<div>\n",
       "<style scoped>\n",
       "    .dataframe tbody tr th:only-of-type {\n",
       "        vertical-align: middle;\n",
       "    }\n",
       "\n",
       "    .dataframe tbody tr th {\n",
       "        vertical-align: top;\n",
       "    }\n",
       "\n",
       "    .dataframe thead th {\n",
       "        text-align: right;\n",
       "    }\n",
       "</style>\n",
       "<table border=\"1\" class=\"dataframe\">\n",
       "  <thead>\n",
       "    <tr style=\"text-align: right;\">\n",
       "      <th>Price</th>\n",
       "      <th>Close</th>\n",
       "      <th>High</th>\n",
       "      <th>Low</th>\n",
       "      <th>Open</th>\n",
       "      <th>Volume</th>\n",
       "      <th>change_tomorrow</th>\n",
       "    </tr>\n",
       "    <tr>\n",
       "      <th>Date</th>\n",
       "      <th></th>\n",
       "      <th></th>\n",
       "      <th></th>\n",
       "      <th></th>\n",
       "      <th></th>\n",
       "      <th></th>\n",
       "    </tr>\n",
       "  </thead>\n",
       "  <tbody>\n",
       "    <tr>\n",
       "      <th>2023-01-03</th>\n",
       "      <td>123.632523</td>\n",
       "      <td>129.395510</td>\n",
       "      <td>122.742865</td>\n",
       "      <td>128.782641</td>\n",
       "      <td>112117500</td>\n",
       "      <td>-0.010209</td>\n",
       "    </tr>\n",
       "    <tr>\n",
       "      <th>2023-01-04</th>\n",
       "      <td>124.907707</td>\n",
       "      <td>127.181276</td>\n",
       "      <td>123.642420</td>\n",
       "      <td>125.431615</td>\n",
       "      <td>89113600</td>\n",
       "      <td>0.010718</td>\n",
       "    </tr>\n",
       "    <tr>\n",
       "      <th>2023-01-05</th>\n",
       "      <td>123.583099</td>\n",
       "      <td>126.301493</td>\n",
       "      <td>123.326093</td>\n",
       "      <td>125.668849</td>\n",
       "      <td>80962700</td>\n",
       "      <td>-0.035488</td>\n",
       "    </tr>\n",
       "    <tr>\n",
       "      <th>2023-01-06</th>\n",
       "      <td>128.130234</td>\n",
       "      <td>128.792531</td>\n",
       "      <td>123.454601</td>\n",
       "      <td>124.561732</td>\n",
       "      <td>87754700</td>\n",
       "      <td>-0.004072</td>\n",
       "    </tr>\n",
       "    <tr>\n",
       "      <th>2023-01-09</th>\n",
       "      <td>128.654129</td>\n",
       "      <td>131.876670</td>\n",
       "      <td>128.397123</td>\n",
       "      <td>128.970458</td>\n",
       "      <td>70790800</td>\n",
       "      <td>-0.004437</td>\n",
       "    </tr>\n",
       "  </tbody>\n",
       "</table>\n",
       "</div>"
      ],
      "text/plain": [
       "Price            Close        High         Low        Open     Volume  \\\n",
       "Date                                                                    \n",
       "2023-01-03  123.632523  129.395510  122.742865  128.782641  112117500   \n",
       "2023-01-04  124.907707  127.181276  123.642420  125.431615   89113600   \n",
       "2023-01-05  123.583099  126.301493  123.326093  125.668849   80962700   \n",
       "2023-01-06  128.130234  128.792531  123.454601  124.561732   87754700   \n",
       "2023-01-09  128.654129  131.876670  128.397123  128.970458   70790800   \n",
       "\n",
       "Price       change_tomorrow  \n",
       "Date                         \n",
       "2023-01-03        -0.010209  \n",
       "2023-01-04         0.010718  \n",
       "2023-01-05        -0.035488  \n",
       "2023-01-06        -0.004072  \n",
       "2023-01-09        -0.004437  "
      ]
     },
     "execution_count": 6,
     "metadata": {},
     "output_type": "execute_result"
    }
   ],
   "source": [
    "df['change_tomorrow'] = df.Close.pct_change(-1)\n",
    "df.head(n=5)"
   ]
  },
  {
   "attachments": {},
   "cell_type": "markdown",
   "id": "779bd814-49f7-4f90-b9bd-0b1eef7b5589",
   "metadata": {},
   "source": [
    "If you look at the change from the first day to the next one, the price increses. Therefore, the first value of the previous output should be positive. Hence, we multiply by -1:"
   ]
  },
  {
   "cell_type": "code",
   "execution_count": 7,
   "id": "61cb25d2-6ae0-4b20-aeaf-ce01cbfef1b1",
   "metadata": {},
   "outputs": [
    {
     "data": {
      "text/html": [
       "<div>\n",
       "<style scoped>\n",
       "    .dataframe tbody tr th:only-of-type {\n",
       "        vertical-align: middle;\n",
       "    }\n",
       "\n",
       "    .dataframe tbody tr th {\n",
       "        vertical-align: top;\n",
       "    }\n",
       "\n",
       "    .dataframe thead th {\n",
       "        text-align: right;\n",
       "    }\n",
       "</style>\n",
       "<table border=\"1\" class=\"dataframe\">\n",
       "  <thead>\n",
       "    <tr style=\"text-align: right;\">\n",
       "      <th>Price</th>\n",
       "      <th>Close</th>\n",
       "      <th>High</th>\n",
       "      <th>Low</th>\n",
       "      <th>Open</th>\n",
       "      <th>Volume</th>\n",
       "      <th>change_tomorrow</th>\n",
       "    </tr>\n",
       "    <tr>\n",
       "      <th>Date</th>\n",
       "      <th></th>\n",
       "      <th></th>\n",
       "      <th></th>\n",
       "      <th></th>\n",
       "      <th></th>\n",
       "      <th></th>\n",
       "    </tr>\n",
       "  </thead>\n",
       "  <tbody>\n",
       "    <tr>\n",
       "      <th>2023-01-03</th>\n",
       "      <td>123.632523</td>\n",
       "      <td>129.395510</td>\n",
       "      <td>122.742865</td>\n",
       "      <td>128.782641</td>\n",
       "      <td>112117500</td>\n",
       "      <td>0.010209</td>\n",
       "    </tr>\n",
       "    <tr>\n",
       "      <th>2023-01-04</th>\n",
       "      <td>124.907707</td>\n",
       "      <td>127.181276</td>\n",
       "      <td>123.642420</td>\n",
       "      <td>125.431615</td>\n",
       "      <td>89113600</td>\n",
       "      <td>-0.010718</td>\n",
       "    </tr>\n",
       "    <tr>\n",
       "      <th>2023-01-05</th>\n",
       "      <td>123.583099</td>\n",
       "      <td>126.301493</td>\n",
       "      <td>123.326093</td>\n",
       "      <td>125.668849</td>\n",
       "      <td>80962700</td>\n",
       "      <td>0.035488</td>\n",
       "    </tr>\n",
       "    <tr>\n",
       "      <th>2023-01-06</th>\n",
       "      <td>128.130234</td>\n",
       "      <td>128.792531</td>\n",
       "      <td>123.454601</td>\n",
       "      <td>124.561732</td>\n",
       "      <td>87754700</td>\n",
       "      <td>0.004072</td>\n",
       "    </tr>\n",
       "    <tr>\n",
       "      <th>2023-01-09</th>\n",
       "      <td>128.654129</td>\n",
       "      <td>131.876670</td>\n",
       "      <td>128.397123</td>\n",
       "      <td>128.970458</td>\n",
       "      <td>70790800</td>\n",
       "      <td>0.004437</td>\n",
       "    </tr>\n",
       "  </tbody>\n",
       "</table>\n",
       "</div>"
      ],
      "text/plain": [
       "Price            Close        High         Low        Open     Volume  \\\n",
       "Date                                                                    \n",
       "2023-01-03  123.632523  129.395510  122.742865  128.782641  112117500   \n",
       "2023-01-04  124.907707  127.181276  123.642420  125.431615   89113600   \n",
       "2023-01-05  123.583099  126.301493  123.326093  125.668849   80962700   \n",
       "2023-01-06  128.130234  128.792531  123.454601  124.561732   87754700   \n",
       "2023-01-09  128.654129  131.876670  128.397123  128.970458   70790800   \n",
       "\n",
       "Price       change_tomorrow  \n",
       "Date                         \n",
       "2023-01-03         0.010209  \n",
       "2023-01-04        -0.010718  \n",
       "2023-01-05         0.035488  \n",
       "2023-01-06         0.004072  \n",
       "2023-01-09         0.004437  "
      ]
     },
     "execution_count": 7,
     "metadata": {},
     "output_type": "execute_result"
    }
   ],
   "source": [
    "df.change_tomorrow = df.change_tomorrow * -1\n",
    "df.head(n=5)"
   ]
  },
  {
   "attachments": {},
   "cell_type": "markdown",
   "id": "a7bc75ae-652f-4e9a-810d-adc207475622",
   "metadata": {},
   "source": [
    "To better read the data, we shall multiply by 100 to have percentage values:"
   ]
  },
  {
   "cell_type": "code",
   "execution_count": 8,
   "id": "9ce83083-383f-472e-9c9f-4ff0c9712591",
   "metadata": {},
   "outputs": [
    {
     "data": {
      "text/html": [
       "<div>\n",
       "<style scoped>\n",
       "    .dataframe tbody tr th:only-of-type {\n",
       "        vertical-align: middle;\n",
       "    }\n",
       "\n",
       "    .dataframe tbody tr th {\n",
       "        vertical-align: top;\n",
       "    }\n",
       "\n",
       "    .dataframe thead th {\n",
       "        text-align: right;\n",
       "    }\n",
       "</style>\n",
       "<table border=\"1\" class=\"dataframe\">\n",
       "  <thead>\n",
       "    <tr style=\"text-align: right;\">\n",
       "      <th>Price</th>\n",
       "      <th>Close</th>\n",
       "      <th>High</th>\n",
       "      <th>Low</th>\n",
       "      <th>Open</th>\n",
       "      <th>Volume</th>\n",
       "      <th>change_tomorrow</th>\n",
       "    </tr>\n",
       "    <tr>\n",
       "      <th>Date</th>\n",
       "      <th></th>\n",
       "      <th></th>\n",
       "      <th></th>\n",
       "      <th></th>\n",
       "      <th></th>\n",
       "      <th></th>\n",
       "    </tr>\n",
       "  </thead>\n",
       "  <tbody>\n",
       "    <tr>\n",
       "      <th>2023-01-03</th>\n",
       "      <td>123.632523</td>\n",
       "      <td>129.395510</td>\n",
       "      <td>122.742865</td>\n",
       "      <td>128.782641</td>\n",
       "      <td>112117500</td>\n",
       "      <td>1.020901</td>\n",
       "    </tr>\n",
       "    <tr>\n",
       "      <th>2023-01-04</th>\n",
       "      <td>124.907707</td>\n",
       "      <td>127.181276</td>\n",
       "      <td>123.642420</td>\n",
       "      <td>125.431615</td>\n",
       "      <td>89113600</td>\n",
       "      <td>-1.071836</td>\n",
       "    </tr>\n",
       "    <tr>\n",
       "      <th>2023-01-05</th>\n",
       "      <td>123.583099</td>\n",
       "      <td>126.301493</td>\n",
       "      <td>123.326093</td>\n",
       "      <td>125.668849</td>\n",
       "      <td>80962700</td>\n",
       "      <td>3.548838</td>\n",
       "    </tr>\n",
       "    <tr>\n",
       "      <th>2023-01-06</th>\n",
       "      <td>128.130234</td>\n",
       "      <td>128.792531</td>\n",
       "      <td>123.454601</td>\n",
       "      <td>124.561732</td>\n",
       "      <td>87754700</td>\n",
       "      <td>0.407212</td>\n",
       "    </tr>\n",
       "    <tr>\n",
       "      <th>2023-01-09</th>\n",
       "      <td>128.654129</td>\n",
       "      <td>131.876670</td>\n",
       "      <td>128.397123</td>\n",
       "      <td>128.970458</td>\n",
       "      <td>70790800</td>\n",
       "      <td>0.443674</td>\n",
       "    </tr>\n",
       "  </tbody>\n",
       "</table>\n",
       "</div>"
      ],
      "text/plain": [
       "Price            Close        High         Low        Open     Volume  \\\n",
       "Date                                                                    \n",
       "2023-01-03  123.632523  129.395510  122.742865  128.782641  112117500   \n",
       "2023-01-04  124.907707  127.181276  123.642420  125.431615   89113600   \n",
       "2023-01-05  123.583099  126.301493  123.326093  125.668849   80962700   \n",
       "2023-01-06  128.130234  128.792531  123.454601  124.561732   87754700   \n",
       "2023-01-09  128.654129  131.876670  128.397123  128.970458   70790800   \n",
       "\n",
       "Price       change_tomorrow  \n",
       "Date                         \n",
       "2023-01-03         1.020901  \n",
       "2023-01-04        -1.071836  \n",
       "2023-01-05         3.548838  \n",
       "2023-01-06         0.407212  \n",
       "2023-01-09         0.443674  "
      ]
     },
     "execution_count": 8,
     "metadata": {},
     "output_type": "execute_result"
    }
   ],
   "source": [
    "df.change_tomorrow = df.change_tomorrow * 100\n",
    "df.head(n=5)"
   ]
  },
  {
   "attachments": {},
   "cell_type": "markdown",
   "id": "de5a655d-7bed-484f-b19b-67e356bd6802",
   "metadata": {},
   "source": [
    "We also drop rows with any missing data."
   ]
  },
  {
   "cell_type": "code",
   "execution_count": 9,
   "id": "e2b8a782-f385-4ead-80ce-5f1b22b630b0",
   "metadata": {},
   "outputs": [],
   "source": [
    "df = df.dropna().copy()"
   ]
  },
  {
   "attachments": {},
   "cell_type": "markdown",
   "id": "be5a0d4b-0171-45c9-b929-77fd5eb83491",
   "metadata": {},
   "source": [
    "---\n",
    "#### III.2 *Bonus*: interpretation of the distribution of the continuous variable `change_tomorrow`"
   ]
  },
  {
   "cell_type": "code",
   "execution_count": 10,
   "id": "4105d5d5",
   "metadata": {},
   "outputs": [],
   "source": [
    "import matplotlib.pyplot as plt\n",
    "import numpy as np\n",
    "import pandas as pd\n",
    "from scipy.stats import norm"
   ]
  },
  {
   "cell_type": "markdown",
   "id": "01d36fe9",
   "metadata": {},
   "source": [
    "**Interpretation:**\n",
    "\n",
    "- The following histogram shows the distribution of the `change_tomorrow` variable, with a normal curve overlaid.\n",
    "- The mean represents the center of the distribution.\n",
    "- The orange dashed lines indicate ±1 standard deviation ($\\sigma$) from the mean ($\\mu$).\n",
    "\n",
    "> **What is the 68-95-99.7 Rule?**\n",
    ">\n",
    "> The **68-95-99.7 rule**, also known as the **empirical rule**, describes how data is distributed in a **normal distribution**:\n",
    ">\n",
    "> - **68%** of values lie within **±1 standard deviation** from the mean\n",
    "> - **95%** lie within **±2 standard deviations**\n",
    "> - **99.7%** lie within **±3 standard deviations**\n",
    "\n",
    "As `change_tomorrow` is roughly normally distributed, we can say that about 68% of all daily changes lie between ($\\mu - \\sigma$) and ($\\mu - \\sigma$)."
   ]
  },
  {
   "cell_type": "code",
   "execution_count": 11,
   "id": "304b5912-667d-4340-b9fc-032e26d7870e",
   "metadata": {},
   "outputs": [
    {
     "data": {
      "image/png": "[encoded data removed]",
      "text/plain": [
       "<Figure size 800x400 with 1 Axes>"
      ]
     },
     "metadata": {},
     "output_type": "display_data"
    }
   ],
   "source": [
    "std = df.change_tomorrow.std()\n",
    "mean = df.change_tomorrow.mean()\n",
    "\n",
    "plt.figure(figsize=(8, 4))\n",
    "count, bins, _ = plt.hist(df.change_tomorrow, bins=45, edgecolor='black', alpha=0.7, density=True)\n",
    "\n",
    "# Normal curve\n",
    "x = np.linspace(min(bins), max(bins), 100)\n",
    "p = norm.pdf(x, mean, std)\n",
    "plt.plot(x, p, 'k', linewidth=2)\n",
    "\n",
    "# Fill ±1 std area\n",
    "x_fill = np.linspace(mean - std, mean + std, 100)\n",
    "plt.fill_between(x_fill, norm.pdf(x_fill, mean, std), alpha=0.3, color='orange', label=r'±$\\sigma$ (~68%)')\n",
    "\n",
    "# ±1σ markers\n",
    "plt.axvline(mean - std, color='orange', linestyle='--', label=r'-$\\sigma$')\n",
    "plt.axvline(mean + std, color='orange', linestyle='--', label=r'+$\\sigma$')\n",
    "plt.axvline(mean, color='red', linestyle='-', label=r'$\\mu$')\n",
    "\n",
    "plt.title(r\"Distribution of the variable $change\\_tomorrow$ for AAPL\")\n",
    "plt.xlabel(\"Change Tomorrow\")\n",
    "plt.ylabel(\"Density\")\n",
    "plt.legend()\n",
    "plt.grid(True)\n",
    "plt.tight_layout()\n",
    "plt.show()"
   ]
  },
  {
   "cell_type": "markdown",
   "id": "86cef7b5",
   "metadata": {},
   "source": [
    "> Aabout **68% of the changes fall between -1.46 and +1.46**."
   ]
  },
  {
   "cell_type": "code",
   "execution_count": 12,
   "id": "e5d6f3c3",
   "metadata": {},
   "outputs": [
    {
     "name": "stdout",
     "output_type": "stream",
     "text": [
      "Standard Deviation (σ): 1.4827.\n",
      "Mean (μ): 0.0675.\n"
     ]
    }
   ],
   "source": [
    "print(f\"Standard Deviation (σ): {std:.4f}.\")\n",
    "print(f\"Mean (μ): {mean:.4f}.\")"
   ]
  },
  {
   "attachments": {},
   "cell_type": "markdown",
   "id": "c1acc712-f434-4719-acd7-fad2600c1473",
   "metadata": {},
   "source": [
    "---\n",
    "#### IV. Long / Short\n",
    "\n",
    "Did the stock go up or down?"
   ]
  },
  {
   "cell_type": "code",
   "execution_count": 13,
   "id": "7d7503a6-6b1a-4d10-bb8d-ffb5cfa5ccc0",
   "metadata": {},
   "outputs": [
    {
     "data": {
      "text/html": [
       "<div>\n",
       "<style scoped>\n",
       "    .dataframe tbody tr th:only-of-type {\n",
       "        vertical-align: middle;\n",
       "    }\n",
       "\n",
       "    .dataframe tbody tr th {\n",
       "        vertical-align: top;\n",
       "    }\n",
       "\n",
       "    .dataframe thead th {\n",
       "        text-align: right;\n",
       "    }\n",
       "</style>\n",
       "<table border=\"1\" class=\"dataframe\">\n",
       "  <thead>\n",
       "    <tr style=\"text-align: right;\">\n",
       "      <th>Price</th>\n",
       "      <th>Close</th>\n",
       "      <th>High</th>\n",
       "      <th>Low</th>\n",
       "      <th>Open</th>\n",
       "      <th>Volume</th>\n",
       "      <th>change_tomorrow</th>\n",
       "    </tr>\n",
       "    <tr>\n",
       "      <th>Date</th>\n",
       "      <th></th>\n",
       "      <th></th>\n",
       "      <th></th>\n",
       "      <th></th>\n",
       "      <th></th>\n",
       "      <th></th>\n",
       "    </tr>\n",
       "  </thead>\n",
       "  <tbody>\n",
       "    <tr>\n",
       "      <th>2023-01-03</th>\n",
       "      <td>123.632523</td>\n",
       "      <td>129.395510</td>\n",
       "      <td>122.742865</td>\n",
       "      <td>128.782641</td>\n",
       "      <td>112117500</td>\n",
       "      <td>1</td>\n",
       "    </tr>\n",
       "    <tr>\n",
       "      <th>2023-01-04</th>\n",
       "      <td>124.907707</td>\n",
       "      <td>127.181276</td>\n",
       "      <td>123.642420</td>\n",
       "      <td>125.431615</td>\n",
       "      <td>89113600</td>\n",
       "      <td>-1</td>\n",
       "    </tr>\n",
       "    <tr>\n",
       "      <th>2023-01-05</th>\n",
       "      <td>123.583099</td>\n",
       "      <td>126.301493</td>\n",
       "      <td>123.326093</td>\n",
       "      <td>125.668849</td>\n",
       "      <td>80962700</td>\n",
       "      <td>1</td>\n",
       "    </tr>\n",
       "    <tr>\n",
       "      <th>2023-01-06</th>\n",
       "      <td>128.130234</td>\n",
       "      <td>128.792531</td>\n",
       "      <td>123.454601</td>\n",
       "      <td>124.561732</td>\n",
       "      <td>87754700</td>\n",
       "      <td>1</td>\n",
       "    </tr>\n",
       "    <tr>\n",
       "      <th>2023-01-09</th>\n",
       "      <td>128.654129</td>\n",
       "      <td>131.876670</td>\n",
       "      <td>128.397123</td>\n",
       "      <td>128.970458</td>\n",
       "      <td>70790800</td>\n",
       "      <td>1</td>\n",
       "    </tr>\n",
       "  </tbody>\n",
       "</table>\n",
       "</div>"
      ],
      "text/plain": [
       "Price            Close        High         Low        Open     Volume  \\\n",
       "Date                                                                    \n",
       "2023-01-03  123.632523  129.395510  122.742865  128.782641  112117500   \n",
       "2023-01-04  124.907707  127.181276  123.642420  125.431615   89113600   \n",
       "2023-01-05  123.583099  126.301493  123.326093  125.668849   80962700   \n",
       "2023-01-06  128.130234  128.792531  123.454601  124.561732   87754700   \n",
       "2023-01-09  128.654129  131.876670  128.397123  128.970458   70790800   \n",
       "\n",
       "Price       change_tomorrow  \n",
       "Date                         \n",
       "2023-01-03                1  \n",
       "2023-01-04               -1  \n",
       "2023-01-05                1  \n",
       "2023-01-06                1  \n",
       "2023-01-09                1  "
      ]
     },
     "execution_count": 13,
     "metadata": {},
     "output_type": "execute_result"
    }
   ],
   "source": [
    "df.change_tomorrow = np.where(df.change_tomorrow > 0, 1, -1)\n",
    "df.head(n=5)"
   ]
  },
  {
   "attachments": {},
   "cell_type": "markdown",
   "id": "b3196153-c4af-4863-b1be-1017deefa2f5",
   "metadata": {},
   "source": [
    "---\n",
    "#### V. Compute Machine Learning model\n",
    "\n",
    "Proposal: Random Forest within `ensemble` module of `sklearn` library."
   ]
  },
  {
   "cell_type": "code",
   "execution_count": 14,
   "id": "bb433d01-0e6b-4f60-a3a5-dac0a2490818",
   "metadata": {},
   "outputs": [],
   "source": [
    "from sklearn.ensemble import RandomForestClassifier"
   ]
  },
  {
   "cell_type": "code",
   "execution_count": 15,
   "id": "c5770a11-e57a-4c2f-b084-01d090a5db2d",
   "metadata": {},
   "outputs": [
    {
     "name": "stdout",
     "output_type": "stream",
     "text": [
      "Decision Tree Accuracy: 83.89%.\n"
     ]
    }
   ],
   "source": [
    "model = RandomForestClassifier(max_depth=7, random_state=42)\n",
    "\n",
    "y = df.change_tomorrow\n",
    "X = df.drop(columns='change_tomorrow')\n",
    "\n",
    "model.fit(X, y)\n",
    "print(f\"Decision Tree Accuracy: {model.score(X, y):.2%}.\")"
   ]
  },
  {
   "attachments": {},
   "cell_type": "markdown",
   "id": "2072c20e-d9dd-4620-a658-8aa2988aec2c",
   "metadata": {},
   "source": [
    "---\n",
    "#### VI. Backtesting"
   ]
  },
  {
   "attachments": {},
   "cell_type": "markdown",
   "id": "88943e4c-b9bd-41d0-b679-25f1a28c0171",
   "metadata": {},
   "source": [
    "Create the strategy."
   ]
  },
  {
   "cell_type": "code",
   "execution_count": 17,
   "id": "a10d3ffc-71cc-45d0-8271-48032180729d",
   "metadata": {},
   "outputs": [],
   "source": [
    "from backtesting import Strategy"
   ]
  },
  {
   "cell_type": "code",
   "execution_count": 18,
   "id": "3b756d1d-08aa-4110-b2df-1d5f260210f0",
   "metadata": {},
   "outputs": [],
   "source": [
    "class ClassificationAAPL(Strategy):\n",
    "    def init(self):\n",
    "        self.model = model\n",
    "        self.already_bought = False\n",
    "\n",
    "    def next(self):\n",
    "        explanatory_today = self.data.df.iloc[-1:, :]\n",
    "        forecast_tomorrow = self.model.predict(explanatory_today)[0]\n",
    "        \n",
    "        # conditions to sell or buy\n",
    "        if forecast_tomorrow == 1 and self.already_bought == False:\n",
    "            self.buy()\n",
    "            self.already_bought = True\n",
    "        elif forecast_tomorrow == -1 and self.already_bought == True:\n",
    "            self.sell()\n",
    "            self.already_bought = False\n",
    "        else:\n",
    "            pass"
   ]
  },
  {
   "attachments": {},
   "cell_type": "markdown",
   "id": "5b01b553-3322-45a5-a4d6-7599aaa81eef",
   "metadata": {},
   "source": [
    "Run the Backtest."
   ]
  },
  {
   "cell_type": "code",
   "execution_count": 19,
   "id": "1f01ca27-b5ed-4fc2-9309-75837bf433ca",
   "metadata": {},
   "outputs": [],
   "source": [
    "from backtesting import Backtest"
   ]
  },
  {
   "cell_type": "code",
   "execution_count": 20,
   "id": "8e866dee-4108-4133-af4b-9ebe36c17f82",
   "metadata": {},
   "outputs": [],
   "source": [
    "bt = Backtest(\n",
    "    data=X,                      # The historical market data to run the backtest on\n",
    "    strategy=ClassificationAAPL, # The trading strategy class to apply\n",
    "    cash=10000,                  # Starting capital for the backtest\n",
    "    commission=0.002,            # Commission fee per trade (0.2%)\n",
    "    exclusive_orders=True        # Ensures only one order is active at a time (no overlapping trades)\n",
    ")"
   ]
  },
  {
   "cell_type": "code",
   "execution_count": 21,
   "id": "fe6f032f-d4cb-499d-825e-c2e7fa85844a",
   "metadata": {},
   "outputs": [],
   "source": [
    "results = bt.run()"
   ]
  },
  {
   "cell_type": "markdown",
   "id": "03f4e77c",
   "metadata": {},
   "source": [
    "---\n",
    "#### VII. Report\n",
    "\n",
    "Show the report in a DataFrame."
   ]
  },
  {
   "cell_type": "code",
   "execution_count": 22,
   "id": "65d01b89-f35c-4ce0-89fb-ca9e0b60bbb1",
   "metadata": {},
   "outputs": [
    {
     "data": {
      "text/html": [
       "<div>\n",
       "<style scoped>\n",
       "    .dataframe tbody tr th:only-of-type {\n",
       "        vertical-align: middle;\n",
       "    }\n",
       "\n",
       "    .dataframe tbody tr th {\n",
       "        vertical-align: top;\n",
       "    }\n",
       "\n",
       "    .dataframe thead th {\n",
       "        text-align: right;\n",
       "    }\n",
       "</style>\n",
       "<table border=\"1\" class=\"dataframe\">\n",
       "  <thead>\n",
       "    <tr style=\"text-align: right;\">\n",
       "      <th></th>\n",
       "      <th>Value</th>\n",
       "    </tr>\n",
       "  </thead>\n",
       "  <tbody>\n",
       "    <tr>\n",
       "      <th>Start</th>\n",
       "      <td>2023-01-03 00:00:00</td>\n",
       "    </tr>\n",
       "    <tr>\n",
       "      <th>End</th>\n",
       "      <td>2025-04-03 00:00:00</td>\n",
       "    </tr>\n",
       "    <tr>\n",
       "      <th>Duration</th>\n",
       "      <td>821 days 00:00:00</td>\n",
       "    </tr>\n",
       "    <tr>\n",
       "      <th>Exposure Time [%]</th>\n",
       "      <td>99.469027</td>\n",
       "    </tr>\n",
       "    <tr>\n",
       "      <th>Equity Final [$]</th>\n",
       "      <td>54139.255828</td>\n",
       "    </tr>\n",
       "    <tr>\n",
       "      <th>Equity Peak [$]</th>\n",
       "      <td>58531.782474</td>\n",
       "    </tr>\n",
       "    <tr>\n",
       "      <th>Commissions [$]</th>\n",
       "      <td>21997.97133</td>\n",
       "    </tr>\n",
       "    <tr>\n",
       "      <th>Return [%]</th>\n",
       "      <td>441.392558</td>\n",
       "    </tr>\n",
       "  </tbody>\n",
       "</table>\n",
       "</div>"
      ],
      "text/plain": [
       "                                 Value\n",
       "Start              2023-01-03 00:00:00\n",
       "End                2025-04-03 00:00:00\n",
       "Duration             821 days 00:00:00\n",
       "Exposure Time [%]            99.469027\n",
       "Equity Final [$]          54139.255828\n",
       "Equity Peak [$]           58531.782474\n",
       "Commissions [$]            21997.97133\n",
       "Return [%]                  441.392558"
      ]
     },
     "execution_count": 22,
     "metadata": {},
     "output_type": "execute_result"
    }
   ],
   "source": [
    "results.to_frame('Value').loc[:'Return [%]']"
   ]
  },
  {
   "attachments": {},
   "cell_type": "markdown",
   "id": "835ed5dd-26cc-4743-9120-7d418d51bf9e",
   "metadata": {},
   "source": [
    "Plot the backtest report."
   ]
  },
  {
   "cell_type": "code",
   "execution_count": 23,
   "id": "b78d08d5-9f46-4545-b85f-3115c1b07dbb",
   "metadata": {},
   "outputs": [
    {
     "data": {
      "text/html": [
       "<div style=\"display: table;\"><div style=\"display: table-row;\"><div style=\"display: table-cell;\"><b title=\"bokeh.models.plots.GridPlot\">GridPlot</b>(</div><div style=\"display: table-cell;\">id&nbsp;=&nbsp;'p1327', <span id=\"p1354\" style=\"cursor: pointer;\">&hellip;)</span></div></div><div class=\"p1353\" style=\"display: none;\"><div style=\"display: table-cell;\"></div><div style=\"display: table-cell;\">align&nbsp;=&nbsp;'auto',</div></div><div class=\"p1353\" style=\"display: none;\"><div style=\"display: table-cell;\"></div><div style=\"display: table-cell;\">aspect_ratio&nbsp;=&nbsp;None,</div></div><div class=\"p1353\" style=\"display: none;\"><div style=\"display: table-cell;\"></div><div style=\"display: table-cell;\">children&nbsp;=&nbsp;[(figure(id='p1050', ...), 0, 0), (figure(id='p1150', ...), 1, 0), (figure(id='p1003', ...), 2, 0), (figure(id='p1208', ...), 3, 0)],</div></div><div class=\"p1353\" style=\"display: none;\"><div style=\"display: table-cell;\"></div><div style=\"display: table-cell;\">cols&nbsp;=&nbsp;None,</div></div><div class=\"p1353\" style=\"display: none;\"><div style=\"display: table-cell;\"></div><div style=\"display: table-cell;\">context_menu&nbsp;=&nbsp;None,</div></div><div class=\"p1353\" style=\"display: none;\"><div style=\"display: table-cell;\"></div><div style=\"display: table-cell;\">css_classes&nbsp;=&nbsp;[],</div></div><div class=\"p1353\" style=\"display: none;\"><div style=\"display: table-cell;\"></div><div style=\"display: table-cell;\">css_variables&nbsp;=&nbsp;{},</div></div><div class=\"p1353\" style=\"display: none;\"><div style=\"display: table-cell;\"></div><div style=\"display: table-cell;\">disabled&nbsp;=&nbsp;False,</div></div><div class=\"p1353\" style=\"display: none;\"><div style=\"display: table-cell;\"></div><div style=\"display: table-cell;\">elements&nbsp;=&nbsp;[],</div></div><div class=\"p1353\" style=\"display: none;\"><div style=\"display: table-cell;\"></div><div style=\"display: table-cell;\">flow_mode&nbsp;=&nbsp;'block',</div></div><div class=\"p1353\" style=\"display: none;\"><div style=\"display: table-cell;\"></div><div style=\"display: table-cell;\">height&nbsp;=&nbsp;None,</div></div><div class=\"p1353\" style=\"display: none;\"><div style=\"display: table-cell;\"></div><div style=\"display: table-cell;\">height_policy&nbsp;=&nbsp;'auto',</div></div><div class=\"p1353\" style=\"display: none;\"><div style=\"display: table-cell;\"></div><div style=\"display: table-cell;\">html_attributes&nbsp;=&nbsp;{},</div></div><div class=\"p1353\" style=\"display: none;\"><div style=\"display: table-cell;\"></div><div style=\"display: table-cell;\">html_id&nbsp;=&nbsp;None,</div></div><div class=\"p1353\" style=\"display: none;\"><div style=\"display: table-cell;\"></div><div style=\"display: table-cell;\">js_event_callbacks&nbsp;=&nbsp;{},</div></div><div class=\"p1353\" style=\"display: none;\"><div style=\"display: table-cell;\"></div><div style=\"display: table-cell;\">js_property_callbacks&nbsp;=&nbsp;{},</div></div><div class=\"p1353\" style=\"display: none;\"><div style=\"display: table-cell;\"></div><div style=\"display: table-cell;\">margin&nbsp;=&nbsp;None,</div></div><div class=\"p1353\" style=\"display: none;\"><div style=\"display: table-cell;\"></div><div style=\"display: table-cell;\">max_height&nbsp;=&nbsp;None,</div></div><div class=\"p1353\" style=\"display: none;\"><div style=\"display: table-cell;\"></div><div style=\"display: table-cell;\">max_width&nbsp;=&nbsp;None,</div></div><div class=\"p1353\" style=\"display: none;\"><div style=\"display: table-cell;\"></div><div style=\"display: table-cell;\">min_height&nbsp;=&nbsp;None,</div></div><div class=\"p1353\" style=\"display: none;\"><div style=\"display: table-cell;\"></div><div style=\"display: table-cell;\">min_width&nbsp;=&nbsp;None,</div></div><div class=\"p1353\" style=\"display: none;\"><div style=\"display: table-cell;\"></div><div style=\"display: table-cell;\">name&nbsp;=&nbsp;None,</div></div><div class=\"p1353\" style=\"display: none;\"><div style=\"display: table-cell;\"></div><div style=\"display: table-cell;\">resizable&nbsp;=&nbsp;False,</div></div><div class=\"p1353\" style=\"display: none;\"><div style=\"display: table-cell;\"></div><div style=\"display: table-cell;\">rows&nbsp;=&nbsp;None,</div></div><div class=\"p1353\" style=\"display: none;\"><div style=\"display: table-cell;\"></div><div style=\"display: table-cell;\">sizing_mode&nbsp;=&nbsp;'stretch_width',</div></div><div class=\"p1353\" style=\"display: none;\"><div style=\"display: table-cell;\"></div><div style=\"display: table-cell;\">spacing&nbsp;=&nbsp;0,</div></div><div class=\"p1353\" style=\"display: none;\"><div style=\"display: table-cell;\"></div><div style=\"display: table-cell;\">styles&nbsp;=&nbsp;{},</div></div><div class=\"p1353\" style=\"display: none;\"><div style=\"display: table-cell;\"></div><div style=\"display: table-cell;\">stylesheets&nbsp;=&nbsp;[],</div></div><div class=\"p1353\" style=\"display: none;\"><div style=\"display: table-cell;\"></div><div style=\"display: table-cell;\">subscribed_events&nbsp;=&nbsp;PropertyValueSet(),</div></div><div class=\"p1353\" style=\"display: none;\"><div style=\"display: table-cell;\"></div><div style=\"display: table-cell;\">syncable&nbsp;=&nbsp;True,</div></div><div class=\"p1353\" style=\"display: none;\"><div style=\"display: table-cell;\"></div><div style=\"display: table-cell;\">tags&nbsp;=&nbsp;[],</div></div><div class=\"p1353\" style=\"display: none;\"><div style=\"display: table-cell;\"></div><div style=\"display: table-cell;\">toolbar&nbsp;=&nbsp;Toolbar(id='p1326', ...),</div></div><div class=\"p1353\" style=\"display: none;\"><div style=\"display: table-cell;\"></div><div style=\"display: table-cell;\">toolbar_location&nbsp;=&nbsp;'right',</div></div><div class=\"p1353\" style=\"display: none;\"><div style=\"display: table-cell;\"></div><div style=\"display: table-cell;\">visible&nbsp;=&nbsp;True,</div></div><div class=\"p1353\" style=\"display: none;\"><div style=\"display: table-cell;\"></div><div style=\"display: table-cell;\">width&nbsp;=&nbsp;None,</div></div><div class=\"p1353\" style=\"display: none;\"><div style=\"display: table-cell;\"></div><div style=\"display: table-cell;\">width_policy&nbsp;=&nbsp;'auto')</div></div></div>\n",
       "<script>\n",
       "(function() {\n",
       "  let expanded = false;\n",
       "  const ellipsis = document.getElementById(\"p1354\");\n",
       "  ellipsis.addEventListener(\"click\", function() {\n",
       "    const rows = document.getElementsByClassName(\"p1353\");\n",
       "    for (let i = 0; i < rows.length; i++) {\n",
       "      const el = rows[i];\n",
       "      el.style.display = expanded ? \"none\" : \"table-row\";\n",
       "    }\n",
       "    ellipsis.innerHTML = expanded ? \"&hellip;)\" : \"&lsaquo;&lsaquo;&lsaquo;\";\n",
       "    expanded = !expanded;\n",
       "  });\n",
       "})();\n",
       "</script>\n"
      ],
      "text/plain": [
       "GridPlot(id='p1327', ...)"
      ]
     },
     "execution_count": 23,
     "metadata": {},
     "output_type": "execute_result"
    }
   ],
   "source": [
    "bt.plot(filename='backtests/backtest_report_AAPL.html')"
   ]
  }
 ],
 "metadata": {
  "kernelspec": {
   "display_name": "Python 3",
   "language": "python",
   "name": "python3"
  },
  "language_info": {
   "codemirror_mode": {
    "name": "ipython",
    "version": 3
   },
   "file_extension": ".py",
   "mimetype": "text/x-python",
   "name": "python",
   "nbconvert_exporter": "python",
   "pygments_lexer": "ipython3",
   "version": "3.12.5"
  }
 },
 "nbformat": 4,
 "nbformat_minor": 5
}
